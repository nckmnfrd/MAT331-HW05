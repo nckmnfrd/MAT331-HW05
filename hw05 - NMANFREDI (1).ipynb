{
 "cells": [
  {
   "cell_type": "markdown",
   "metadata": {},
   "source": [
    "##### <h1> Homework 05 </h1>\n",
    "\n",
    "<h3> Due Tue, March 12, 11:59pm </h3> \n",
    "\n",
    "Download the .ipynb file for this notebook, and place your solutions where indicated (you can make more cells for each problem), keeping the original problem descriptions.  Upload only one file, which contains all your work; it should be named \"HW05_firstname_lastname\".  Please include comments in your code; this can also help you get partial credit if your code doesn't work.\n",
    "\n",
    "Then upload it to Blackboard under the Assignments tab. See Collaboration Policy in Homework section of course webpage (it's the same as it was for previous homeworks).  "
   ]
  },
  {
   "cell_type": "markdown",
   "metadata": {},
   "source": [
    "<h3> Overview of RSA </h3>\n",
    "\n",
    "To generate an RSA public key, private key pair, Alice chooses two primes $p,q$ (for instance by testing random large numbers using a fast primality testing algorithm) and an integer $e$ that is relatively prime to $(p-1)(q-1)$.  Her public key is $(e,n=pq)$, which she publishes to the world.  To generate her private key, she computes $d$ such that $ed \\equiv 1 \\bmod (p-1)(q-1)$ (the Extended Euclidean Algorithm can be used for this). This $d$ is her private key.  \n",
    "\n",
    "If Bob wants to send Alice a message $m$ (which we assume is an integer less than $n$), he computes the encrypted message as \n",
    "$$m^e \\bmod n,$$\n",
    "which can be done efficiently using the repeated squaring trick (which we implemented as <samp>exp_mod</samp>). \n",
    "\n",
    "If Alice receives an encrypted message $c$, she decrypts it by computing\n",
    "$$c^d \\bmod n,$$\n",
    "using a fast method such as <samp>exp_mod</samp>. "
   ]
  },
  {
   "cell_type": "markdown",
   "metadata": {},
   "source": [
    "<h3> Problem 1 </h3> \n",
    "\n",
    "(a) Generate an RSA public key, private key pair using $p,q$ of at least 20 digits.  \n",
    "\n",
    "(b) Encrypt the test message $m=1234$ using the public key, giving a ciphertext $c$.   \n",
    "\n",
    "(c) Decrypt the ciphertext $c$ using the private key. "
   ]
  },
  {
   "cell_type": "code",
   "execution_count": 175,
   "metadata": {},
   "outputs": [],
   "source": [
    "def exp_mod(a,e,b):\n",
    "    \"\"\"Return a^e % b, computed using repeated squaring.\"\"\"\n",
    "    \n",
    "    bin_rep=bin(e)  \n",
    "    prod = 1    \n",
    "    cur_pow_two = a \n",
    "    for i in range(len(bin_rep)-2): \n",
    "        if bin_rep[-1-i]=='1':\n",
    "            prod = prod * cur_pow_two % b \n",
    "        cur_pow_two = (cur_pow_two)^2 % b  \n",
    "    return prod\n",
    "\n",
    "def xgcd(a, b):\n",
    "    \"\"\"return (g, x, y) such that a*x + b*y = g = gcd(a, b)\"\"\"\n",
    "    x0, x1, y0, y1 = 0, 1, 1, 0\n",
    "    while a != 0:\n",
    "        q, b, a = b // a, a, b % a\n",
    "        y0, y1 = y1, y0 - q * y1\n",
    "        x0, x1 = x1, x0 - q * x1\n",
    "    return b, x0, y0\n",
    "\n"
   ]
  },
  {
   "cell_type": "code",
   "execution_count": 2,
   "metadata": {},
   "outputs": [
    {
     "data": {
      "text/plain": [
       "1267650600228229401496703205653"
      ]
     },
     "execution_count": 2,
     "metadata": {},
     "output_type": "execute_result"
    }
   ],
   "source": [
    "p = next_prime(2^100 + randint(1,10000)); p"
   ]
  },
  {
   "cell_type": "code",
   "execution_count": 4,
   "metadata": {},
   "outputs": [
    {
     "data": {
      "text/plain": [
       "1267650600228229401496703211467"
      ]
     },
     "execution_count": 4,
     "metadata": {},
     "output_type": "execute_result"
    }
   ],
   "source": [
    "q = next_prime(2^100 + randint(1,10000)); q"
   ]
  },
  {
   "cell_type": "code",
   "execution_count": 5,
   "metadata": {
    "scrolled": true
   },
   "outputs": [
    {
     "data": {
      "text/plain": [
       "1"
      ]
     },
     "execution_count": 5,
     "metadata": {},
     "output_type": "execute_result"
    }
   ],
   "source": [
    "n = p*q\n",
    "e = 17; gcd(e,(p-1)*(q-1))"
   ]
  },
  {
   "cell_type": "code",
   "execution_count": 179,
   "metadata": {},
   "outputs": [
    {
     "data": {
      "text/plain": [
       "1234"
      ]
     },
     "execution_count": 179,
     "metadata": {},
     "output_type": "execute_result"
    }
   ],
   "source": [
    "public_key = (e,n)\n",
    "xgcd(e, (p-1)*(q-1))\n",
    "d = xgcd(e, (p-1)*(q-1))[1]% ((p-1)*(q-1))\n",
    "private_key = d\n",
    "M = 1234\n",
    "\n",
    "def RSA_encrypt(m, (e,n)):\n",
    "    \"\"\"Computes RSA encryption of m with public-key (e,n)\"\"\"\n",
    "    return exp_mod(m,e,n)\n",
    "\n",
    "def RSA_decrypt(c, d, (e,n)):\n",
    "    \"\"\"Computes RSA decryption of c with private-key d, public-key (e,n)\n",
    "    and public-key (e,n)\"\"\"\n",
    "    return exp_mod(c,d,n)\n",
    "\n",
    "RSA_decrypt(RSA_encrypt(M, (e,n)), d, (e,n))\n"
   ]
  },
  {
   "cell_type": "code",
   "execution_count": null,
   "metadata": {},
   "outputs": [],
   "source": []
  },
  {
   "cell_type": "markdown",
   "metadata": {},
   "source": [
    "<h3> Problem 2 </h3> \n",
    "\n",
    "In RSA, if Alice makes the mistake of choosing $p,q$ too small, an eavesdropper Eve, who only sees the public key, can compute the private key, which will allow her to decrypt messages sent to Alice.  You are Eve, and Alice's public key is \n",
    "$$(e,n) = (17, 577795578054100501).$$ Find Alice's private key $d$.    "
   ]
  },
  {
   "cell_type": "code",
   "execution_count": 188,
   "metadata": {},
   "outputs": [
    {
     "name": "stdout",
     "output_type": "stream",
     "text": [
      "567154603856114214897163094572320190211663332781126142738353\n"
     ]
    }
   ],
   "source": [
    "def exp_mod(a,e,b):\n",
    "    \"\"\"Return a^e % b, computed using repeated squaring.\"\"\"\n",
    "    \n",
    "    bin_rep=bin(e)  \n",
    "    prod = 1    \n",
    "    cur_pow_two = a \n",
    "    for i in range(len(bin_rep)-2): \n",
    "        if bin_rep[-1-i]=='1':\n",
    "            prod = prod * cur_pow_two % b \n",
    "        cur_pow_two = (cur_pow_two)^2 % b  \n",
    "    return prod\n",
    "\n",
    "def xgcd(a, b):\n",
    "    \"\"\"return (g, x, y) such that a*x + b*y = g = gcd(a, b)\"\"\"\n",
    "    x0, x1, y0, y1 = 0, 1, 1, 0\n",
    "    while a != 0:\n",
    "        q, b, a = b // a, a, b % a\n",
    "        y0, y1 = y1, y0 - q * y1\n",
    "        x0, x1 = x1, x0 - q * x1\n",
    "    return b, x0, y0\n",
    "\n",
    "p = next_prime(2^100 + randint(1,10000)); p\n",
    "q = next_prime(2^100 + randint(1,10000)); q\n",
    "\n",
    "n = p*q\n",
    "#e = 17; gcd(e,(p-1)*(q-1))\n",
    "\n",
    "public_key = (e,n)\n",
    "xgcd(e, (p-1)*(q-1))\n",
    "d = xgcd(e, (p-1)*(q-1))[1]% ((p-1)*(q-1))\n",
    "private_key = d\n",
    "M = 1234\n",
    "\n",
    "def RSA_encrypt(m, (e,n)):\n",
    "    \"\"\"Computes RSA encryption of m with public-key (e,n)\"\"\"\n",
    "    return exp_mod(m,e,n)\n",
    "\n",
    "def RSA_decrypt(c, d, (e,n)):\n",
    "    \"\"\"Computes RSA decryption of c with private-key d, public-key (e,n)\n",
    "    and public-key (e,n)\"\"\"\n",
    "    return exp_mod(c,d,n)\n",
    "\n",
    "RSA_decrypt(RSA_encrypt(M, (e,n)), d, (e,n))\n",
    "\n",
    "abcde = RSA_decrypt(RSA_encrypt(M, (17,577795578054100501)), d, (17,577795578054100501))\n",
    "print d\n"
   ]
  },
  {
   "cell_type": "markdown",
   "metadata": {},
   "source": [
    "<h3> Problem 3 </h3>\n",
    "\n",
    "In RSA, we will consider what happens when Alice makes the mistake of choosing $p,q$ too close together.  Her method is as follows.  She chooses $p$ a random large prime, and then chooses $q$ to be the smallest prime greater than $p$.  You are Eve, and Alice's public key is $(e,n)$ where $e=13$ and $n$ is\n",
    "\n",
    "$$4149515568880992958512407863691161151012446232242436899995657329690652811412991293413200434314186514261288537546721977134041420919065144782418033157091025480140853599374890776565691$$\n",
    "\n",
    "(Make sure to copy all of $n$, which has $181$ digits).  Find Alice's private key $d$.  \n"
   ]
  },
  {
   "cell_type": "code",
   "execution_count": 181,
   "metadata": {},
   "outputs": [
    {
     "name": "stdout",
     "output_type": "stream",
     "text": [
      "1417886509640285537242907743732467932843759684573825844643553\n"
     ]
    }
   ],
   "source": [
    "def exp_mod(a,e,b):\n",
    "    \"\"\"Return a^e % b, computed using repeated squaring.\"\"\"\n",
    "    \n",
    "    bin_rep=bin(e)  \n",
    "    prod = 1    \n",
    "    cur_pow_two = a \n",
    "    for i in range(len(bin_rep)-2): \n",
    "        if bin_rep[-1-i]=='1':\n",
    "            prod = prod * cur_pow_two % b \n",
    "        cur_pow_two = (cur_pow_two)^2 % b  \n",
    "    return prod\n",
    "\n",
    "def xgcd(a, b):\n",
    "    \"\"\"return (g, x, y) such that a*x + b*y = g = gcd(a, b)\"\"\"\n",
    "    x0, x1, y0, y1 = 0, 1, 1, 0\n",
    "    while a != 0:\n",
    "        q, b, a = b // a, a, b % a\n",
    "        y0, y1 = y1, y0 - q * y1\n",
    "        x0, x1 = x1, x0 - q * x1\n",
    "    return b, x0, y0\n",
    "\n",
    "p = next_prime(2^100 + randint(1,10000)); p\n",
    "q = next_prime(2^100 + randint(1,10000)); q\n",
    "\n",
    "n = p*q\n",
    "e = 17; gcd(e,(p-1)*(q-1))\n",
    "\n",
    "public_key = (e,n)\n",
    "xgcd(e, (p-1)*(q-1))\n",
    "d = xgcd(e, (p-1)*(q-1))[1]% ((p-1)*(q-1))\n",
    "private_key = d\n",
    "M = 1234\n",
    "\n",
    "def RSA_encrypt(m, (e,n)):\n",
    "    \"\"\"Computes RSA encryption of m with public-key (e,n)\"\"\"\n",
    "    return exp_mod(m,e,n)\n",
    "\n",
    "def RSA_decrypt(c, d, (e,n)):\n",
    "    \"\"\"Computes RSA decryption of c with private-key d, public-key (e,n)\n",
    "    and public-key (e,n)\"\"\"\n",
    "    return exp_mod(c,d,n)\n",
    "\n",
    "RSA_decrypt(RSA_encrypt(M, (e,n)), d, (e,n))\n",
    "\n",
    "edc = RSA_decrypt(RSA_encrypt(M, (13,4149515568880992958512407863691161151012446232242436899995657329690652811412991293413200434314186514261288537546721977134041420919065144782418033157091025480140853599374890776565691)), d, (13,4149515568880992958512407863691161151012446232242436899995657329690652811412991293413200434314186514261288537546721977134041420919065144782418033157091025480140853599374890776565691))\n",
    "print d\n"
   ]
  },
  {
   "cell_type": "markdown",
   "metadata": {},
   "source": [
    "<h3> Problem 4 </h3> \n",
    "\n",
    "Suppose that Alice has generated an RSA key pair $(e,n)$ where $e=1031$ and $n$ is \n",
    "\n",
    "$$5164499756173817179311838344006023748659411585858576367865241166444878017076039114129434139209664851217737946715315438073$$\n",
    "\n",
    "(Make sure to copy all of $n$, which has $121$ digits). Bob has a secret two-digit number $m$, which he RSA encrypts to $c$ using Alice's public key and sends to her.  He makes the mistake of not adding any random padding to the end of the message. You are Eve and you intercept $c$, which is \n",
    "\n",
    "$$4999464775939036153095506504533178466937925964341871078399034090512089129818048817825469388233484527953206781376396815810$$\n",
    "\n",
    "(Make sure to copy all $121$ digits).  Find the secret two-digit number $m$.  "
   ]
  },
  {
   "cell_type": "code",
   "execution_count": 187,
   "metadata": {},
   "outputs": [
    {
     "name": "stdout",
     "output_type": "stream",
     "text": [
      "1234\n"
     ]
    }
   ],
   "source": [
    "def exp_mod(a,e,b):\n",
    "    \"\"\"Return a^e % b, computed using repeated squaring.\"\"\"\n",
    "    \n",
    "    bin_rep=bin(e)  \n",
    "    prod = 1    \n",
    "    cur_pow_two = a \n",
    "    for i in range(len(bin_rep)-2): \n",
    "        if bin_rep[-1-i]=='1':\n",
    "            prod = prod * cur_pow_two % b \n",
    "        cur_pow_two = (cur_pow_two)^2 % b  \n",
    "    return prod\n",
    "\n",
    "def xgcd(a, b):\n",
    "    \"\"\"return (g, x, y) such that a*x + b*y = g = gcd(a, b)\"\"\"\n",
    "    x0, x1, y0, y1 = 0, 1, 1, 0\n",
    "    while a != 0:\n",
    "        q, b, a = b // a, a, b % a\n",
    "        y0, y1 = y1, y0 - q * y1\n",
    "        x0, x1 = x1, x0 - q * x1\n",
    "    return b, x0, y0\n",
    "\n",
    "p = next_prime(2^100 + randint(1,10000)); p\n",
    "q = next_prime(2^100 + randint(1,10000)); q\n",
    "\n",
    "n = p*q\n",
    "#e = 17; gcd(e,(p-1)*(q-1))\n",
    "\n",
    "public_key = (e,n)\n",
    "xgcd(e, (p-1)*(q-1))\n",
    "d = xgcd(e, (p-1)*(q-1))[1]% ((p-1)*(q-1))\n",
    "private_key = d\n",
    "M = 1234\n",
    "\n",
    "def RSA_encrypt(m, (e,n)):\n",
    "    \"\"\"Computes RSA encryption of m with public-key (e,n)\"\"\"\n",
    "    return exp_mod(m,e,n)\n",
    "\n",
    "def RSA_decrypt(c, d, (e,n)):\n",
    "    \"\"\"Computes RSA decryption of c with private-key d, public-key (e,n)\n",
    "    and public-key (e,n)\"\"\"\n",
    "    return exp_mod(c,d,n)\n",
    "\n",
    "RSA_decrypt(RSA_encrypt(M, (e,n)), d, (e,n))\n",
    "\n",
    "amdia = RSA_decrypt(RSA_encrypt(M, (1031, 5164499756173817179311838344006023748659411585858576367865241166444878017076039114129434139209664851217737946715315438073)), d, (1031, 5164499756173817179311838344006023748659411585858576367865241166444878017076039114129434139209664851217737946715315438073))\n",
    "print M\n"
   ]
  },
  {
   "cell_type": "code",
   "execution_count": null,
   "metadata": {},
   "outputs": [],
   "source": []
  }
 ],
 "metadata": {
  "kernelspec": {
   "display_name": "SageMath 8.6",
   "language": "",
   "name": "sagemath"
  },
  "language_info": {
   "codemirror_mode": {
    "name": "ipython",
    "version": 2
   },
   "file_extension": ".py",
   "mimetype": "text/x-python",
   "name": "python",
   "nbconvert_exporter": "python",
   "pygments_lexer": "ipython2",
   "version": "2.7.15"
  }
 },
 "nbformat": 4,
 "nbformat_minor": 2
}
